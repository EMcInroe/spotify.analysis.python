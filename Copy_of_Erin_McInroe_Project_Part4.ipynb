{
  "nbformat": 4,
  "nbformat_minor": 0,
  "metadata": {
    "colab": {
      "provenance": [],
      "collapsed_sections": [],
      "include_colab_link": true
    },
    "kernelspec": {
      "name": "python3",
      "display_name": "Python 3"
    }
  },
  "cells": [
    {
      "cell_type": "markdown",
      "metadata": {
        "id": "view-in-github",
        "colab_type": "text"
      },
      "source": [
        "<a href=\"https://colab.research.google.com/github/EMcInroe/spotify.analysis.python/blob/main/Copy_of_Erin_McInroe_Project_Part4.ipynb\" target=\"_parent\"><img src=\"https://colab.research.google.com/assets/colab-badge.svg\" alt=\"Open In Colab\"/></a>"
      ]
    },
    {
      "cell_type": "markdown",
      "metadata": {
        "id": "aqWCTpjK7uN6"
      },
      "source": [
        "Imagine you have been asked to write a report summarizing your statistical analysis of the project data.  This report might be submitted to an office that manages/regulates this area, people who work in the industry who might be looking to invest in new ideas, or the media. \n",
        "\n",
        "\n",
        " In this synthesis activity for Unit 4 your focus is to use Google Colaboratory to communicate your results.  While this task could be accomplished using a word doc, you are required to use the colab notebook (assignemnts submitted in any other format will receive a zero!)\n",
        "\n",
        "To successfully complete the report of your statistical analysis adhere to the sections outlined below\n",
        "\n",
        "Goals\n",
        "* Appropriate headings, the main title, then an 'Introduction', 'Analysis', 'Results', 'Discussion' and 'Code'\n",
        "* The introduction should contain your question and a brief description of the data\n",
        "* The analysis  should contain the results of the EDA and inferential models, along with any steps you took  to select or convert the observations or variables in preparation of your model  This must contain at least one table created with markdown\n",
        "*  The results should contain the results of your inferential model\n",
        "* The discussion should describe the results of the model in non-technical terms in a manner that conveys meaning to answer your question of interest\n",
        "* The code should contain the complete code to replicate your analysis including the appropriate comments"
      ]
    },
    {
      "cell_type": "markdown",
      "metadata": {
        "id": "LYtA3IYFBagS"
      },
      "source": [
        "Task 1:  Use the heading 'Introduction' and write an introduction containing your question and a brief description of the data"
      ]
    },
    {
      "cell_type": "markdown",
      "metadata": {
        "id": "W4CFpbfpWGHI"
      },
      "source": [
        "# <center>What Makes You Dance: A study of Dance Tracks from Spotify<center/>\n",
        "\n",
        "#Introduction\n",
        "<br>\n",
        "\n",
        "The music industry is constantly trying to understand what makes a hit song. Streaming platforms have become popular as a way to distribute large amount of music to a wider audience. It is important for creators to understand what makes a song popular. This analysis attempts to find what makes a dance song popular based on a characteristics of the track. A data set collected from 200 popular tracks on Spotify is used to answer this question. For this study we look explain how features of a song determine the response variable of song danceability. The variable danceability is a value from 0 to 1 based on how tempo, rhythm stability, beat strength, and overall regularity create a dance song. The predictor variables are tempo, measured in beats per minute (BPM), and speechiness, which measures the presence of spoken word. The specific research question will be studying and a link to the data set is given below. \n",
        "\n",
        "<br>\n",
        "\n",
        "Research Question: Does the tempo and speechiness of a track predict danceability?\n",
        "\n",
        "\n",
        "\n",
        "\n"
      ]
    },
    {
      "cell_type": "markdown",
      "metadata": {
        "id": "g8LwWtuMBozk"
      },
      "source": [
        "Task 2: Use the heading 'Analysis' and write the results of the EDA and inferential models, along with any steps you took to select or convert the observations or variables in preparation of your model.  You must clearly state the assuptions for the kind of statistical test you are using.  You must clearly state how you tested the assumptions and whether or not these were met.  This must contain at least one table created with markdown or Tabulate"
      ]
    },
    {
      "cell_type": "markdown",
      "metadata": {
        "id": "z1jRUmrICADm"
      },
      "source": [
        "# Analysis\n",
        "\n",
        "<Br>\n",
        "\n",
        "Data for the study is downloaded from the folliwng link. [Link to Spotify Data Set](https://drive.google.com/uc?id=1bFUmgi6vCzlw6GMOjL3RSgfrYaaYUJJX )\n",
        "\n",
        "##<center>Univariate Descriptive Statistics<center/>\n",
        "\n",
        "Variable | N | Mean | SD | Minimum | Maximum\n",
        ":--- | :---: | :---: | :---: | :---: | :---:\n",
        "Danceability | 200 | 0.698 | 0.139 | 0.184 | 0.964\n",
        "Speechiness | 200 | 0.128 | 0.124 | 0.0253 | 0.884\n",
        "Tempo | 200 | 125.477 | 30.474 | 64.062 | 203.903\n",
        "\n",
        "<br>\n",
        "Speechiness appears to be highly skewed, as the mean is much closer to the minimim value than the maximum value. Danceability also appears to be slightly skewed since the mean is much closer to the maximum than the minimum. We may need to perform some transformations on the data to complete the analysis. \n",
        "<br>\n",
        "\n",
        "##<center>Correlation Matrix<center/>\n",
        "\n",
        "  Variable   | Danceability | Speechiness | Tempo\n",
        " :--- | :---: | :---: | :---:\n",
        " Danceability | 1.0000 | 0.215767 | -0.036293\n",
        " Speechiness | 0.215767 | 1.0000 | 0.128136\n",
        " Tempo | -0.036293 | 0.128136 | 1.0000\n",
        "\n",
        " <br> \n",
        "\n",
        "The correlation matrix does not show much correlation between the variables since the values are much closer to zero than 1. \n",
        "\n",
        "We use a least squares regression to interpret the relationship between the response variable of danceability and the predictor variables of speechiness and tempo.\n",
        "\n",
        "$$ Danceability = b0 + b1(Speechiness) + b2(Tempo)\\\\\n",
        "$$\n",
        "\n",
        "When we first ran the model we found that the residuals did not have a normal distribution. The Anderson-Darling test for normality calculated a p-value of less than 0.05, leading us to reject the null hypothesis that the distribution of the residuals is normal. To remediate this violation, we transformed speechiness and danceability using the Box-Cox transformation because observed in the EDA that they were skewed. The model was again run using the transformed variables for danceability and speechiness.  \n",
        "\n",
        "<br>\n",
        "\n",
        "With the transformed variables we examined the assumptions again. The assumptions of linearity, independence, normality, and equal variances are supported and we can proceed with the interpretation of the relationship. Complete output for the tests and models is included in the code section of the report. "
      ]
    },
    {
      "cell_type": "markdown",
      "metadata": {
        "id": "EoIXVg09CAyp"
      },
      "source": [
        "Task 3:  Use the heading 'Results' and write the results of your inferential model"
      ]
    },
    {
      "cell_type": "markdown",
      "metadata": {
        "id": "N3kcchPsCIWs"
      },
      "source": [
        "#Results\n",
        "\n",
        "The results of the linear regression showed that the predictor variable tempo was not significant (p-value 0.150>0.05). We removed tempo from the final model and interpreted the relationship between danceability and speechiness using the transformed variables. The overall model has an f-statistic of 28.92 and a p-value of less than 0.001. The p-value of the transformed speechiness variable is also less than 0.001, far below the alpha value of 0.05. The R<sup>2</sup>  for the final model is 0.137, which suggests that there is a better model to explain the variation in danceability. \n",
        "\n",
        "$$ Danceability(BC) = -.01753 + 0.0161(Speech(BC))\\\\\n",
        "$$\n",
        "\n",
        "In order to use the model to predict the danceability of the song we would need to back transform the value for danceability obtained from the model. \n",
        "\n",
        "\n"
      ]
    },
    {
      "cell_type": "markdown",
      "metadata": {
        "id": "2qmbY1xOCIt0"
      },
      "source": [
        "Task 4:  Use the heading 'Discussion' and describe the results of the model in non-technical terms in a manner that conveys meaning to answer your question of interest"
      ]
    },
    {
      "cell_type": "markdown",
      "metadata": {
        "id": "Ua7ccG0DCPGa"
      },
      "source": [
        "#Discussion\n",
        "\n",
        "---\n",
        "\n",
        "Student Text Imput Here\n",
        "\n",
        "\n",
        "\n",
        "---\n",
        "\n",
        "\n"
      ]
    },
    {
      "cell_type": "markdown",
      "metadata": {
        "id": "SUZWXU3jCQFT"
      },
      "source": [
        "Taks 5: Use the heading 'Code' containing the complete code to replicate your analysis including the appropriate comments"
      ]
    },
    {
      "cell_type": "markdown",
      "metadata": {
        "id": "0n0fIfmuCbaO"
      },
      "source": [
        "#Code\n",
        "\n",
        "\n",
        "\n",
        "\n"
      ]
    },
    {
      "cell_type": "code",
      "metadata": {
        "id": "ot1VvYJY7qm3",
        "colab": {
          "base_uri": "https://localhost:8080/"
        },
        "outputId": "55ed3564-cecb-4dd3-f505-913761247ef7"
      },
      "source": [
        "#enter your code here\n",
        "from google.colab import drive\n",
        "drive.mount('/gdrive')"
      ],
      "execution_count": null,
      "outputs": [
        {
          "output_type": "stream",
          "name": "stdout",
          "text": [
            "Mounted at /gdrive\n"
          ]
        }
      ]
    },
    {
      "cell_type": "code",
      "source": [
        "import pandas as pd"
      ],
      "metadata": {
        "id": "6Jp2b-A5_pum"
      },
      "execution_count": null,
      "outputs": []
    },
    {
      "cell_type": "code",
      "source": [
        "spotifyproj = pd.read_csv(\"/gdrive/MyDrive/Stat 487/spotifyproj.csv\")\n",
        "spotifyproj.head()"
      ],
      "metadata": {
        "colab": {
          "base_uri": "https://localhost:8080/",
          "height": 206
        },
        "id": "UNUEKifCANyA",
        "outputId": "918045d1-2e6e-446a-aa12-b84bd56ec985"
      },
      "execution_count": null,
      "outputs": [
        {
          "output_type": "execute_result",
          "data": {
            "text/plain": [
              "   Unnamed: 0  Unnamed: 0.1    Tempo  Speechiness  Danceability  sqr_dance  \\\n",
              "0           0             0  119.932       0.0475         0.722   0.521284   \n",
              "1           1             1  120.031       0.2320         0.798   0.636804   \n",
              "2           2             2  124.990       0.0737         0.726   0.527076   \n",
              "3           3             3   97.963       0.1240         0.882   0.777924   \n",
              "4           4             4  194.034       0.3070         0.534   0.285156   \n",
              "\n",
              "   logspeech  \n",
              "0  -3.047026  \n",
              "1  -1.461018  \n",
              "2  -2.607752  \n",
              "3  -2.087474  \n",
              "4  -1.180908  "
            ],
            "text/html": [
              "\n",
              "  <div id=\"df-1086608f-1005-4062-aaab-b545a50e9804\">\n",
              "    <div class=\"colab-df-container\">\n",
              "      <div>\n",
              "<style scoped>\n",
              "    .dataframe tbody tr th:only-of-type {\n",
              "        vertical-align: middle;\n",
              "    }\n",
              "\n",
              "    .dataframe tbody tr th {\n",
              "        vertical-align: top;\n",
              "    }\n",
              "\n",
              "    .dataframe thead th {\n",
              "        text-align: right;\n",
              "    }\n",
              "</style>\n",
              "<table border=\"1\" class=\"dataframe\">\n",
              "  <thead>\n",
              "    <tr style=\"text-align: right;\">\n",
              "      <th></th>\n",
              "      <th>Unnamed: 0</th>\n",
              "      <th>Unnamed: 0.1</th>\n",
              "      <th>Tempo</th>\n",
              "      <th>Speechiness</th>\n",
              "      <th>Danceability</th>\n",
              "      <th>sqr_dance</th>\n",
              "      <th>logspeech</th>\n",
              "    </tr>\n",
              "  </thead>\n",
              "  <tbody>\n",
              "    <tr>\n",
              "      <th>0</th>\n",
              "      <td>0</td>\n",
              "      <td>0</td>\n",
              "      <td>119.932</td>\n",
              "      <td>0.0475</td>\n",
              "      <td>0.722</td>\n",
              "      <td>0.521284</td>\n",
              "      <td>-3.047026</td>\n",
              "    </tr>\n",
              "    <tr>\n",
              "      <th>1</th>\n",
              "      <td>1</td>\n",
              "      <td>1</td>\n",
              "      <td>120.031</td>\n",
              "      <td>0.2320</td>\n",
              "      <td>0.798</td>\n",
              "      <td>0.636804</td>\n",
              "      <td>-1.461018</td>\n",
              "    </tr>\n",
              "    <tr>\n",
              "      <th>2</th>\n",
              "      <td>2</td>\n",
              "      <td>2</td>\n",
              "      <td>124.990</td>\n",
              "      <td>0.0737</td>\n",
              "      <td>0.726</td>\n",
              "      <td>0.527076</td>\n",
              "      <td>-2.607752</td>\n",
              "    </tr>\n",
              "    <tr>\n",
              "      <th>3</th>\n",
              "      <td>3</td>\n",
              "      <td>3</td>\n",
              "      <td>97.963</td>\n",
              "      <td>0.1240</td>\n",
              "      <td>0.882</td>\n",
              "      <td>0.777924</td>\n",
              "      <td>-2.087474</td>\n",
              "    </tr>\n",
              "    <tr>\n",
              "      <th>4</th>\n",
              "      <td>4</td>\n",
              "      <td>4</td>\n",
              "      <td>194.034</td>\n",
              "      <td>0.3070</td>\n",
              "      <td>0.534</td>\n",
              "      <td>0.285156</td>\n",
              "      <td>-1.180908</td>\n",
              "    </tr>\n",
              "  </tbody>\n",
              "</table>\n",
              "</div>\n",
              "      <button class=\"colab-df-convert\" onclick=\"convertToInteractive('df-1086608f-1005-4062-aaab-b545a50e9804')\"\n",
              "              title=\"Convert this dataframe to an interactive table.\"\n",
              "              style=\"display:none;\">\n",
              "        \n",
              "  <svg xmlns=\"http://www.w3.org/2000/svg\" height=\"24px\"viewBox=\"0 0 24 24\"\n",
              "       width=\"24px\">\n",
              "    <path d=\"M0 0h24v24H0V0z\" fill=\"none\"/>\n",
              "    <path d=\"M18.56 5.44l.94 2.06.94-2.06 2.06-.94-2.06-.94-.94-2.06-.94 2.06-2.06.94zm-11 1L8.5 8.5l.94-2.06 2.06-.94-2.06-.94L8.5 2.5l-.94 2.06-2.06.94zm10 10l.94 2.06.94-2.06 2.06-.94-2.06-.94-.94-2.06-.94 2.06-2.06.94z\"/><path d=\"M17.41 7.96l-1.37-1.37c-.4-.4-.92-.59-1.43-.59-.52 0-1.04.2-1.43.59L10.3 9.45l-7.72 7.72c-.78.78-.78 2.05 0 2.83L4 21.41c.39.39.9.59 1.41.59.51 0 1.02-.2 1.41-.59l7.78-7.78 2.81-2.81c.8-.78.8-2.07 0-2.86zM5.41 20L4 18.59l7.72-7.72 1.47 1.35L5.41 20z\"/>\n",
              "  </svg>\n",
              "      </button>\n",
              "      \n",
              "  <style>\n",
              "    .colab-df-container {\n",
              "      display:flex;\n",
              "      flex-wrap:wrap;\n",
              "      gap: 12px;\n",
              "    }\n",
              "\n",
              "    .colab-df-convert {\n",
              "      background-color: #E8F0FE;\n",
              "      border: none;\n",
              "      border-radius: 50%;\n",
              "      cursor: pointer;\n",
              "      display: none;\n",
              "      fill: #1967D2;\n",
              "      height: 32px;\n",
              "      padding: 0 0 0 0;\n",
              "      width: 32px;\n",
              "    }\n",
              "\n",
              "    .colab-df-convert:hover {\n",
              "      background-color: #E2EBFA;\n",
              "      box-shadow: 0px 1px 2px rgba(60, 64, 67, 0.3), 0px 1px 3px 1px rgba(60, 64, 67, 0.15);\n",
              "      fill: #174EA6;\n",
              "    }\n",
              "\n",
              "    [theme=dark] .colab-df-convert {\n",
              "      background-color: #3B4455;\n",
              "      fill: #D2E3FC;\n",
              "    }\n",
              "\n",
              "    [theme=dark] .colab-df-convert:hover {\n",
              "      background-color: #434B5C;\n",
              "      box-shadow: 0px 1px 3px 1px rgba(0, 0, 0, 0.15);\n",
              "      filter: drop-shadow(0px 1px 2px rgba(0, 0, 0, 0.3));\n",
              "      fill: #FFFFFF;\n",
              "    }\n",
              "  </style>\n",
              "\n",
              "      <script>\n",
              "        const buttonEl =\n",
              "          document.querySelector('#df-1086608f-1005-4062-aaab-b545a50e9804 button.colab-df-convert');\n",
              "        buttonEl.style.display =\n",
              "          google.colab.kernel.accessAllowed ? 'block' : 'none';\n",
              "\n",
              "        async function convertToInteractive(key) {\n",
              "          const element = document.querySelector('#df-1086608f-1005-4062-aaab-b545a50e9804');\n",
              "          const dataTable =\n",
              "            await google.colab.kernel.invokeFunction('convertToInteractive',\n",
              "                                                     [key], {});\n",
              "          if (!dataTable) return;\n",
              "\n",
              "          const docLinkHtml = 'Like what you see? Visit the ' +\n",
              "            '<a target=\"_blank\" href=https://colab.research.google.com/notebooks/data_table.ipynb>data table notebook</a>'\n",
              "            + ' to learn more about interactive tables.';\n",
              "          element.innerHTML = '';\n",
              "          dataTable['output_type'] = 'display_data';\n",
              "          await google.colab.output.renderOutput(dataTable, element);\n",
              "          const docLink = document.createElement('div');\n",
              "          docLink.innerHTML = docLinkHtml;\n",
              "          element.appendChild(docLink);\n",
              "        }\n",
              "      </script>\n",
              "    </div>\n",
              "  </div>\n",
              "  "
            ]
          },
          "metadata": {},
          "execution_count": 3
        }
      ]
    },
    {
      "cell_type": "code",
      "source": [
        "import numpy as np\n",
        "import matplotlib.pyplot as plt\n",
        "import seaborn as sns"
      ],
      "metadata": {
        "id": "fONNkyGoFDdR"
      },
      "execution_count": null,
      "outputs": []
    },
    {
      "cell_type": "code",
      "source": [
        "spotifyproj[['Danceability','Speechiness','Tempo']].describe()"
      ],
      "metadata": {
        "colab": {
          "base_uri": "https://localhost:8080/",
          "height": 300
        },
        "id": "oVqnsh00FfOG",
        "outputId": "01cc34b1-cf52-4462-dcda-e54d18c24c8c"
      },
      "execution_count": null,
      "outputs": [
        {
          "output_type": "execute_result",
          "data": {
            "text/plain": [
              "       Danceability  Speechiness       Tempo\n",
              "count    200.000000   200.000000  200.000000\n",
              "mean       0.698125     0.127966  125.476590\n",
              "std        0.138845     0.123677   30.473681\n",
              "min        0.184000     0.025300   64.062000\n",
              "25%        0.613500     0.043975  101.958000\n",
              "50%        0.719000     0.074950  125.017000\n",
              "75%        0.806000     0.170250  145.257500\n",
              "max        0.964000     0.884000  203.903000"
            ],
            "text/html": [
              "\n",
              "  <div id=\"df-529ee101-b300-4a8a-9dd3-d915af1fedea\">\n",
              "    <div class=\"colab-df-container\">\n",
              "      <div>\n",
              "<style scoped>\n",
              "    .dataframe tbody tr th:only-of-type {\n",
              "        vertical-align: middle;\n",
              "    }\n",
              "\n",
              "    .dataframe tbody tr th {\n",
              "        vertical-align: top;\n",
              "    }\n",
              "\n",
              "    .dataframe thead th {\n",
              "        text-align: right;\n",
              "    }\n",
              "</style>\n",
              "<table border=\"1\" class=\"dataframe\">\n",
              "  <thead>\n",
              "    <tr style=\"text-align: right;\">\n",
              "      <th></th>\n",
              "      <th>Danceability</th>\n",
              "      <th>Speechiness</th>\n",
              "      <th>Tempo</th>\n",
              "    </tr>\n",
              "  </thead>\n",
              "  <tbody>\n",
              "    <tr>\n",
              "      <th>count</th>\n",
              "      <td>200.000000</td>\n",
              "      <td>200.000000</td>\n",
              "      <td>200.000000</td>\n",
              "    </tr>\n",
              "    <tr>\n",
              "      <th>mean</th>\n",
              "      <td>0.698125</td>\n",
              "      <td>0.127966</td>\n",
              "      <td>125.476590</td>\n",
              "    </tr>\n",
              "    <tr>\n",
              "      <th>std</th>\n",
              "      <td>0.138845</td>\n",
              "      <td>0.123677</td>\n",
              "      <td>30.473681</td>\n",
              "    </tr>\n",
              "    <tr>\n",
              "      <th>min</th>\n",
              "      <td>0.184000</td>\n",
              "      <td>0.025300</td>\n",
              "      <td>64.062000</td>\n",
              "    </tr>\n",
              "    <tr>\n",
              "      <th>25%</th>\n",
              "      <td>0.613500</td>\n",
              "      <td>0.043975</td>\n",
              "      <td>101.958000</td>\n",
              "    </tr>\n",
              "    <tr>\n",
              "      <th>50%</th>\n",
              "      <td>0.719000</td>\n",
              "      <td>0.074950</td>\n",
              "      <td>125.017000</td>\n",
              "    </tr>\n",
              "    <tr>\n",
              "      <th>75%</th>\n",
              "      <td>0.806000</td>\n",
              "      <td>0.170250</td>\n",
              "      <td>145.257500</td>\n",
              "    </tr>\n",
              "    <tr>\n",
              "      <th>max</th>\n",
              "      <td>0.964000</td>\n",
              "      <td>0.884000</td>\n",
              "      <td>203.903000</td>\n",
              "    </tr>\n",
              "  </tbody>\n",
              "</table>\n",
              "</div>\n",
              "      <button class=\"colab-df-convert\" onclick=\"convertToInteractive('df-529ee101-b300-4a8a-9dd3-d915af1fedea')\"\n",
              "              title=\"Convert this dataframe to an interactive table.\"\n",
              "              style=\"display:none;\">\n",
              "        \n",
              "  <svg xmlns=\"http://www.w3.org/2000/svg\" height=\"24px\"viewBox=\"0 0 24 24\"\n",
              "       width=\"24px\">\n",
              "    <path d=\"M0 0h24v24H0V0z\" fill=\"none\"/>\n",
              "    <path d=\"M18.56 5.44l.94 2.06.94-2.06 2.06-.94-2.06-.94-.94-2.06-.94 2.06-2.06.94zm-11 1L8.5 8.5l.94-2.06 2.06-.94-2.06-.94L8.5 2.5l-.94 2.06-2.06.94zm10 10l.94 2.06.94-2.06 2.06-.94-2.06-.94-.94-2.06-.94 2.06-2.06.94z\"/><path d=\"M17.41 7.96l-1.37-1.37c-.4-.4-.92-.59-1.43-.59-.52 0-1.04.2-1.43.59L10.3 9.45l-7.72 7.72c-.78.78-.78 2.05 0 2.83L4 21.41c.39.39.9.59 1.41.59.51 0 1.02-.2 1.41-.59l7.78-7.78 2.81-2.81c.8-.78.8-2.07 0-2.86zM5.41 20L4 18.59l7.72-7.72 1.47 1.35L5.41 20z\"/>\n",
              "  </svg>\n",
              "      </button>\n",
              "      \n",
              "  <style>\n",
              "    .colab-df-container {\n",
              "      display:flex;\n",
              "      flex-wrap:wrap;\n",
              "      gap: 12px;\n",
              "    }\n",
              "\n",
              "    .colab-df-convert {\n",
              "      background-color: #E8F0FE;\n",
              "      border: none;\n",
              "      border-radius: 50%;\n",
              "      cursor: pointer;\n",
              "      display: none;\n",
              "      fill: #1967D2;\n",
              "      height: 32px;\n",
              "      padding: 0 0 0 0;\n",
              "      width: 32px;\n",
              "    }\n",
              "\n",
              "    .colab-df-convert:hover {\n",
              "      background-color: #E2EBFA;\n",
              "      box-shadow: 0px 1px 2px rgba(60, 64, 67, 0.3), 0px 1px 3px 1px rgba(60, 64, 67, 0.15);\n",
              "      fill: #174EA6;\n",
              "    }\n",
              "\n",
              "    [theme=dark] .colab-df-convert {\n",
              "      background-color: #3B4455;\n",
              "      fill: #D2E3FC;\n",
              "    }\n",
              "\n",
              "    [theme=dark] .colab-df-convert:hover {\n",
              "      background-color: #434B5C;\n",
              "      box-shadow: 0px 1px 3px 1px rgba(0, 0, 0, 0.15);\n",
              "      filter: drop-shadow(0px 1px 2px rgba(0, 0, 0, 0.3));\n",
              "      fill: #FFFFFF;\n",
              "    }\n",
              "  </style>\n",
              "\n",
              "      <script>\n",
              "        const buttonEl =\n",
              "          document.querySelector('#df-529ee101-b300-4a8a-9dd3-d915af1fedea button.colab-df-convert');\n",
              "        buttonEl.style.display =\n",
              "          google.colab.kernel.accessAllowed ? 'block' : 'none';\n",
              "\n",
              "        async function convertToInteractive(key) {\n",
              "          const element = document.querySelector('#df-529ee101-b300-4a8a-9dd3-d915af1fedea');\n",
              "          const dataTable =\n",
              "            await google.colab.kernel.invokeFunction('convertToInteractive',\n",
              "                                                     [key], {});\n",
              "          if (!dataTable) return;\n",
              "\n",
              "          const docLinkHtml = 'Like what you see? Visit the ' +\n",
              "            '<a target=\"_blank\" href=https://colab.research.google.com/notebooks/data_table.ipynb>data table notebook</a>'\n",
              "            + ' to learn more about interactive tables.';\n",
              "          element.innerHTML = '';\n",
              "          dataTable['output_type'] = 'display_data';\n",
              "          await google.colab.output.renderOutput(dataTable, element);\n",
              "          const docLink = document.createElement('div');\n",
              "          docLink.innerHTML = docLinkHtml;\n",
              "          element.appendChild(docLink);\n",
              "        }\n",
              "      </script>\n",
              "    </div>\n",
              "  </div>\n",
              "  "
            ]
          },
          "metadata": {},
          "execution_count": 5
        }
      ]
    },
    {
      "cell_type": "code",
      "source": [
        "#Correlation matrix of the variables\n",
        "spotifyproj[['Danceability','Speechiness','Tempo']].corr(method='pearson')"
      ],
      "metadata": {
        "colab": {
          "base_uri": "https://localhost:8080/",
          "height": 143
        },
        "id": "IFafGIfjJsh2",
        "outputId": "898778af-8c24-450b-d9c1-91453f32f4c4"
      },
      "execution_count": null,
      "outputs": [
        {
          "output_type": "execute_result",
          "data": {
            "text/plain": [
              "              Danceability  Speechiness     Tempo\n",
              "Danceability      1.000000     0.215767 -0.036293\n",
              "Speechiness       0.215767     1.000000  0.128136\n",
              "Tempo            -0.036293     0.128136  1.000000"
            ],
            "text/html": [
              "\n",
              "  <div id=\"df-3caaa2e0-e51f-483a-b798-7d3a10a3c100\">\n",
              "    <div class=\"colab-df-container\">\n",
              "      <div>\n",
              "<style scoped>\n",
              "    .dataframe tbody tr th:only-of-type {\n",
              "        vertical-align: middle;\n",
              "    }\n",
              "\n",
              "    .dataframe tbody tr th {\n",
              "        vertical-align: top;\n",
              "    }\n",
              "\n",
              "    .dataframe thead th {\n",
              "        text-align: right;\n",
              "    }\n",
              "</style>\n",
              "<table border=\"1\" class=\"dataframe\">\n",
              "  <thead>\n",
              "    <tr style=\"text-align: right;\">\n",
              "      <th></th>\n",
              "      <th>Danceability</th>\n",
              "      <th>Speechiness</th>\n",
              "      <th>Tempo</th>\n",
              "    </tr>\n",
              "  </thead>\n",
              "  <tbody>\n",
              "    <tr>\n",
              "      <th>Danceability</th>\n",
              "      <td>1.000000</td>\n",
              "      <td>0.215767</td>\n",
              "      <td>-0.036293</td>\n",
              "    </tr>\n",
              "    <tr>\n",
              "      <th>Speechiness</th>\n",
              "      <td>0.215767</td>\n",
              "      <td>1.000000</td>\n",
              "      <td>0.128136</td>\n",
              "    </tr>\n",
              "    <tr>\n",
              "      <th>Tempo</th>\n",
              "      <td>-0.036293</td>\n",
              "      <td>0.128136</td>\n",
              "      <td>1.000000</td>\n",
              "    </tr>\n",
              "  </tbody>\n",
              "</table>\n",
              "</div>\n",
              "      <button class=\"colab-df-convert\" onclick=\"convertToInteractive('df-3caaa2e0-e51f-483a-b798-7d3a10a3c100')\"\n",
              "              title=\"Convert this dataframe to an interactive table.\"\n",
              "              style=\"display:none;\">\n",
              "        \n",
              "  <svg xmlns=\"http://www.w3.org/2000/svg\" height=\"24px\"viewBox=\"0 0 24 24\"\n",
              "       width=\"24px\">\n",
              "    <path d=\"M0 0h24v24H0V0z\" fill=\"none\"/>\n",
              "    <path d=\"M18.56 5.44l.94 2.06.94-2.06 2.06-.94-2.06-.94-.94-2.06-.94 2.06-2.06.94zm-11 1L8.5 8.5l.94-2.06 2.06-.94-2.06-.94L8.5 2.5l-.94 2.06-2.06.94zm10 10l.94 2.06.94-2.06 2.06-.94-2.06-.94-.94-2.06-.94 2.06-2.06.94z\"/><path d=\"M17.41 7.96l-1.37-1.37c-.4-.4-.92-.59-1.43-.59-.52 0-1.04.2-1.43.59L10.3 9.45l-7.72 7.72c-.78.78-.78 2.05 0 2.83L4 21.41c.39.39.9.59 1.41.59.51 0 1.02-.2 1.41-.59l7.78-7.78 2.81-2.81c.8-.78.8-2.07 0-2.86zM5.41 20L4 18.59l7.72-7.72 1.47 1.35L5.41 20z\"/>\n",
              "  </svg>\n",
              "      </button>\n",
              "      \n",
              "  <style>\n",
              "    .colab-df-container {\n",
              "      display:flex;\n",
              "      flex-wrap:wrap;\n",
              "      gap: 12px;\n",
              "    }\n",
              "\n",
              "    .colab-df-convert {\n",
              "      background-color: #E8F0FE;\n",
              "      border: none;\n",
              "      border-radius: 50%;\n",
              "      cursor: pointer;\n",
              "      display: none;\n",
              "      fill: #1967D2;\n",
              "      height: 32px;\n",
              "      padding: 0 0 0 0;\n",
              "      width: 32px;\n",
              "    }\n",
              "\n",
              "    .colab-df-convert:hover {\n",
              "      background-color: #E2EBFA;\n",
              "      box-shadow: 0px 1px 2px rgba(60, 64, 67, 0.3), 0px 1px 3px 1px rgba(60, 64, 67, 0.15);\n",
              "      fill: #174EA6;\n",
              "    }\n",
              "\n",
              "    [theme=dark] .colab-df-convert {\n",
              "      background-color: #3B4455;\n",
              "      fill: #D2E3FC;\n",
              "    }\n",
              "\n",
              "    [theme=dark] .colab-df-convert:hover {\n",
              "      background-color: #434B5C;\n",
              "      box-shadow: 0px 1px 3px 1px rgba(0, 0, 0, 0.15);\n",
              "      filter: drop-shadow(0px 1px 2px rgba(0, 0, 0, 0.3));\n",
              "      fill: #FFFFFF;\n",
              "    }\n",
              "  </style>\n",
              "\n",
              "      <script>\n",
              "        const buttonEl =\n",
              "          document.querySelector('#df-3caaa2e0-e51f-483a-b798-7d3a10a3c100 button.colab-df-convert');\n",
              "        buttonEl.style.display =\n",
              "          google.colab.kernel.accessAllowed ? 'block' : 'none';\n",
              "\n",
              "        async function convertToInteractive(key) {\n",
              "          const element = document.querySelector('#df-3caaa2e0-e51f-483a-b798-7d3a10a3c100');\n",
              "          const dataTable =\n",
              "            await google.colab.kernel.invokeFunction('convertToInteractive',\n",
              "                                                     [key], {});\n",
              "          if (!dataTable) return;\n",
              "\n",
              "          const docLinkHtml = 'Like what you see? Visit the ' +\n",
              "            '<a target=\"_blank\" href=https://colab.research.google.com/notebooks/data_table.ipynb>data table notebook</a>'\n",
              "            + ' to learn more about interactive tables.';\n",
              "          element.innerHTML = '';\n",
              "          dataTable['output_type'] = 'display_data';\n",
              "          await google.colab.output.renderOutput(dataTable, element);\n",
              "          const docLink = document.createElement('div');\n",
              "          docLink.innerHTML = docLinkHtml;\n",
              "          element.appendChild(docLink);\n",
              "        }\n",
              "      </script>\n",
              "    </div>\n",
              "  </div>\n",
              "  "
            ]
          },
          "metadata": {},
          "execution_count": 6
        }
      ]
    },
    {
      "cell_type": "code",
      "source": [
        "#import analysis packages\n",
        "import statsmodels as sms \n",
        "import statsmodels.api as smapi\n",
        "import statsmodels.formula.api as smf\n",
        "import statsmodels.stats as stats"
      ],
      "metadata": {
        "colab": {
          "base_uri": "https://localhost:8080/"
        },
        "id": "wOFqvZr4M-JE",
        "outputId": "573651a3-7695-4aa6-bcbc-ad56ae403468"
      },
      "execution_count": null,
      "outputs": [
        {
          "output_type": "stream",
          "name": "stderr",
          "text": [
            "/usr/local/lib/python3.7/dist-packages/statsmodels/tools/_testing.py:19: FutureWarning: pandas.util.testing is deprecated. Use the functions in the public API at pandas.testing instead.\n",
            "  import pandas.util.testing as tm\n"
          ]
        }
      ]
    },
    {
      "cell_type": "code",
      "source": [
        "#Create x variable from Speechiness and Tempo\n",
        "x=spotifyproj[['Speechiness','Tempo']]"
      ],
      "metadata": {
        "id": "mTmNT58nNB6S"
      },
      "execution_count": null,
      "outputs": []
    },
    {
      "cell_type": "code",
      "source": [
        "#Add_constant to your x variable\n",
        "x=smapi.add_constant(x)"
      ],
      "metadata": {
        "colab": {
          "base_uri": "https://localhost:8080/"
        },
        "id": "CjmN-Z2LkzoM",
        "outputId": "eb398a5e-b28b-4c24-91eb-a27ad3c22e03"
      },
      "execution_count": null,
      "outputs": [
        {
          "output_type": "stream",
          "name": "stderr",
          "text": [
            "/usr/local/lib/python3.7/dist-packages/statsmodels/tsa/tsatools.py:117: FutureWarning: In a future version of pandas all arguments of concat except for the argument 'objs' will be keyword-only\n",
            "  x = pd.concat(x[::order], 1)\n"
          ]
        }
      ]
    },
    {
      "cell_type": "code",
      "source": [
        "#Create y variable, Danceability\n",
        "y=spotifyproj['Danceability']"
      ],
      "metadata": {
        "id": "LHDKFGZkk4F1"
      },
      "execution_count": null,
      "outputs": []
    },
    {
      "cell_type": "code",
      "source": [
        "#Define model = statsmodels.api.OLS(y,x)\n",
        "model=smapi.OLS(y,x)"
      ],
      "metadata": {
        "id": "-DgxYutQk_83"
      },
      "execution_count": null,
      "outputs": []
    },
    {
      "cell_type": "code",
      "source": [
        "#Define the results = model.fit()\n",
        "results=model.fit()"
      ],
      "metadata": {
        "id": "nTDKi-BXlBbe"
      },
      "execution_count": null,
      "outputs": []
    },
    {
      "cell_type": "code",
      "source": [
        "#Call results.summary()\n",
        "results.summary()"
      ],
      "metadata": {
        "colab": {
          "base_uri": "https://localhost:8080/",
          "height": 505
        },
        "id": "b6taS2mClGCk",
        "outputId": "b82c37e5-0594-4aa3-db34-1aeb139d6b0f"
      },
      "execution_count": null,
      "outputs": [
        {
          "output_type": "execute_result",
          "data": {
            "text/plain": [
              "<class 'statsmodels.iolib.summary.Summary'>\n",
              "\"\"\"\n",
              "                            OLS Regression Results                            \n",
              "==============================================================================\n",
              "Dep. Variable:           Danceability   R-squared:                       0.051\n",
              "Model:                            OLS   Adj. R-squared:                  0.041\n",
              "Method:                 Least Squares   F-statistic:                     5.262\n",
              "Date:                Fri, 22 Apr 2022   Prob (F-statistic):            0.00594\n",
              "Time:                        14:02:13   Log-Likelihood:                 116.80\n",
              "No. Observations:                 200   AIC:                            -227.6\n",
              "Df Residuals:                     197   BIC:                            -217.7\n",
              "Df Model:                           2                                         \n",
              "Covariance Type:            nonrobust                                         \n",
              "===============================================================================\n",
              "                  coef    std err          t      P>|t|      [0.025      0.975]\n",
              "-------------------------------------------------------------------------------\n",
              "const           0.7031      0.041     17.095      0.000       0.622       0.784\n",
              "Speechiness     0.2516      0.079      3.202      0.002       0.097       0.407\n",
              "Tempo          -0.0003      0.000     -0.929      0.354      -0.001       0.000\n",
              "==============================================================================\n",
              "Omnibus:                       21.725   Durbin-Watson:                   1.966\n",
              "Prob(Omnibus):                  0.000   Jarque-Bera (JB):               25.387\n",
              "Skew:                          -0.804   Prob(JB):                     3.07e-06\n",
              "Kurtosis:                       3.678   Cond. No.                     1.06e+03\n",
              "==============================================================================\n",
              "\n",
              "Warnings:\n",
              "[1] Standard Errors assume that the covariance matrix of the errors is correctly specified.\n",
              "[2] The condition number is large, 1.06e+03. This might indicate that there are\n",
              "strong multicollinearity or other numerical problems.\n",
              "\"\"\""
            ],
            "text/html": [
              "<table class=\"simpletable\">\n",
              "<caption>OLS Regression Results</caption>\n",
              "<tr>\n",
              "  <th>Dep. Variable:</th>      <td>Danceability</td>   <th>  R-squared:         </th> <td>   0.051</td>\n",
              "</tr>\n",
              "<tr>\n",
              "  <th>Model:</th>                   <td>OLS</td>       <th>  Adj. R-squared:    </th> <td>   0.041</td>\n",
              "</tr>\n",
              "<tr>\n",
              "  <th>Method:</th>             <td>Least Squares</td>  <th>  F-statistic:       </th> <td>   5.262</td>\n",
              "</tr>\n",
              "<tr>\n",
              "  <th>Date:</th>             <td>Fri, 22 Apr 2022</td> <th>  Prob (F-statistic):</th>  <td>0.00594</td>\n",
              "</tr>\n",
              "<tr>\n",
              "  <th>Time:</th>                 <td>14:02:13</td>     <th>  Log-Likelihood:    </th> <td>  116.80</td>\n",
              "</tr>\n",
              "<tr>\n",
              "  <th>No. Observations:</th>      <td>   200</td>      <th>  AIC:               </th> <td>  -227.6</td>\n",
              "</tr>\n",
              "<tr>\n",
              "  <th>Df Residuals:</th>          <td>   197</td>      <th>  BIC:               </th> <td>  -217.7</td>\n",
              "</tr>\n",
              "<tr>\n",
              "  <th>Df Model:</th>              <td>     2</td>      <th>                     </th>     <td> </td>   \n",
              "</tr>\n",
              "<tr>\n",
              "  <th>Covariance Type:</th>      <td>nonrobust</td>    <th>                     </th>     <td> </td>   \n",
              "</tr>\n",
              "</table>\n",
              "<table class=\"simpletable\">\n",
              "<tr>\n",
              "       <td></td>          <th>coef</th>     <th>std err</th>      <th>t</th>      <th>P>|t|</th>  <th>[0.025</th>    <th>0.975]</th>  \n",
              "</tr>\n",
              "<tr>\n",
              "  <th>const</th>       <td>    0.7031</td> <td>    0.041</td> <td>   17.095</td> <td> 0.000</td> <td>    0.622</td> <td>    0.784</td>\n",
              "</tr>\n",
              "<tr>\n",
              "  <th>Speechiness</th> <td>    0.2516</td> <td>    0.079</td> <td>    3.202</td> <td> 0.002</td> <td>    0.097</td> <td>    0.407</td>\n",
              "</tr>\n",
              "<tr>\n",
              "  <th>Tempo</th>       <td>   -0.0003</td> <td>    0.000</td> <td>   -0.929</td> <td> 0.354</td> <td>   -0.001</td> <td>    0.000</td>\n",
              "</tr>\n",
              "</table>\n",
              "<table class=\"simpletable\">\n",
              "<tr>\n",
              "  <th>Omnibus:</th>       <td>21.725</td> <th>  Durbin-Watson:     </th> <td>   1.966</td>\n",
              "</tr>\n",
              "<tr>\n",
              "  <th>Prob(Omnibus):</th> <td> 0.000</td> <th>  Jarque-Bera (JB):  </th> <td>  25.387</td>\n",
              "</tr>\n",
              "<tr>\n",
              "  <th>Skew:</th>          <td>-0.804</td> <th>  Prob(JB):          </th> <td>3.07e-06</td>\n",
              "</tr>\n",
              "<tr>\n",
              "  <th>Kurtosis:</th>      <td> 3.678</td> <th>  Cond. No.          </th> <td>1.06e+03</td>\n",
              "</tr>\n",
              "</table><br/><br/>Warnings:<br/>[1] Standard Errors assume that the covariance matrix of the errors is correctly specified.<br/>[2] The condition number is large, 1.06e+03. This might indicate that there are<br/>strong multicollinearity or other numerical problems."
            ]
          },
          "metadata": {},
          "execution_count": 13
        }
      ]
    },
    {
      "cell_type": "code",
      "source": [
        "#Create a residual qq plot using the statsmodels.api package, qqplot method\n",
        "smapi.qqplot(results.resid_pearson)"
      ],
      "metadata": {
        "colab": {
          "base_uri": "https://localhost:8080/",
          "height": 541
        },
        "id": "5aoFrH9AlOp1",
        "outputId": "98354b1b-0441-4a8b-fc0b-184d6d47728f"
      },
      "execution_count": null,
      "outputs": [
        {
          "output_type": "execute_result",
          "data": {
            "text/plain": [
              "<Figure size 432x288 with 1 Axes>"
            ],
            "image/png": "[encoded data removed]"
          },
          "metadata": {},
          "execution_count": 14
        },
        {
          "output_type": "display_data",
          "data": {
            "text/plain": [
              "<Figure size 432x288 with 1 Axes>"
            ],
            "image/png": "[encoded data removed]"
          },
          "metadata": {
            "needs_background": "light"
          }
        }
      ]
    },
    {
      "cell_type": "code",
      "source": [
        "#Test normality using the .normal_ad method from the statsmodels.stats.diagnostic package\n",
        "#Anderson-Darling Test\n",
        "stats.diagnostic.normal_ad(results.resid_pearson)"
      ],
      "metadata": {
        "colab": {
          "base_uri": "https://localhost:8080/"
        },
        "id": "r9hSmGKmlTWc",
        "outputId": "23089c50-ca70-402d-b4e5-198fbf9bff78"
      },
      "execution_count": null,
      "outputs": [
        {
          "output_type": "execute_result",
          "data": {
            "text/plain": [
              "(2.2450057915520745, 1.0362035817108668e-05)"
            ]
          },
          "metadata": {},
          "execution_count": 15
        }
      ]
    },
    {
      "cell_type": "code",
      "source": [
        "#Create a scatterplot from matplotlib \n",
        "#on residuals and fit from results\n",
        "plt.scatter(results.fittedvalues, results.resid_pearson)"
      ],
      "metadata": {
        "colab": {
          "base_uri": "https://localhost:8080/",
          "height": 282
        },
        "id": "Ki5BZ5yolXk0",
        "outputId": "90f32b10-b975-4866-888c-62f77563b5b3"
      },
      "execution_count": null,
      "outputs": [
        {
          "output_type": "execute_result",
          "data": {
            "text/plain": [
              "<matplotlib.collections.PathCollection at 0x7f02e0690ed0>"
            ]
          },
          "metadata": {},
          "execution_count": 16
        },
        {
          "output_type": "display_data",
          "data": {
            "text/plain": [
              "<Figure size 432x288 with 1 Axes>"
            ],
            "image/png": "[encoded data removed]"
          },
          "metadata": {
            "needs_background": "light"
          }
        }
      ]
    },
    {
      "cell_type": "code",
      "source": [
        "#Run the het_breuschpagan method from the statsmodels.stats.diagnostic library\n",
        "#use the .resid_pearson and .model.exog as your inputs\n",
        "#Test for equal variances\n",
        "stats.diagnostic.het_breuschpagan(results.resid_pearson, results.model.exog)"
      ],
      "metadata": {
        "colab": {
          "base_uri": "https://localhost:8080/"
        },
        "id": "-M4dniUQlbbQ",
        "outputId": "48269b10-0825-4335-e394-c7732a37acd2"
      },
      "execution_count": null,
      "outputs": [
        {
          "output_type": "execute_result",
          "data": {
            "text/plain": [
              "(1.7713766069660686,\n",
              " 0.41243019841773865,\n",
              " 0.880198796720743,\n",
              " 0.41632489380398063)"
            ]
          },
          "metadata": {},
          "execution_count": 17
        }
      ]
    },
    {
      "cell_type": "code",
      "source": [
        "#Import Scipy to transform data\n",
        "from scipy import stats as bc"
      ],
      "metadata": {
        "id": "AWh0zVTYl652"
      },
      "execution_count": null,
      "outputs": []
    },
    {
      "cell_type": "code",
      "source": [
        "#Use BoxCox transformation on Speechiness, since it was highly skewed.\n",
        "#We saw it was highly skewed\n",
        "spotifyproj['Speech_BC'], _ = bc.boxcox(spotifyproj['Speechiness'])"
      ],
      "metadata": {
        "id": "U-vGLU4wmEvU"
      },
      "execution_count": null,
      "outputs": []
    },
    {
      "cell_type": "code",
      "source": [
        "#Transform Danceability\n",
        "#We noticed it is skewed in EDA\n",
        "spotifyproj['Dance_BC'], _ = bc.boxcox(spotifyproj['Danceability'])"
      ],
      "metadata": {
        "id": "fWYONPaXmLUc"
      },
      "execution_count": null,
      "outputs": []
    },
    {
      "cell_type": "code",
      "source": [
        "#Refit the model using transformed variable\n",
        "#x variable now includes new transformed variable\n",
        "x2=spotifyproj[['Speech_BC','Tempo']]"
      ],
      "metadata": {
        "id": "qElYCknOmIhy"
      },
      "execution_count": null,
      "outputs": []
    },
    {
      "cell_type": "code",
      "source": [
        "#Add constant to x variable\n",
        "x2 = smapi.add_constant(x2)"
      ],
      "metadata": {
        "colab": {
          "base_uri": "https://localhost:8080/"
        },
        "id": "tDbYx68KoCp2",
        "outputId": "02e3a440-5d51-4aa7-947c-e1ed1fe2028c"
      },
      "execution_count": null,
      "outputs": [
        {
          "output_type": "stream",
          "name": "stderr",
          "text": [
            "/usr/local/lib/python3.7/dist-packages/statsmodels/tsa/tsatools.py:117: FutureWarning: In a future version of pandas all arguments of concat except for the argument 'objs' will be keyword-only\n",
            "  x = pd.concat(x[::order], 1)\n"
          ]
        }
      ]
    },
    {
      "cell_type": "code",
      "source": [
        "#Define a new y variable with the transformed dependent variable\n",
        "y2=spotifyproj['Dance_BC']"
      ],
      "metadata": {
        "id": "jIl1qf47mpl6"
      },
      "execution_count": null,
      "outputs": []
    },
    {
      "cell_type": "code",
      "source": [
        "#Define the new model with the transformed variables\n",
        "model3=smapi.OLS(y2,x2)"
      ],
      "metadata": {
        "id": "CvCHTGyymuuW"
      },
      "execution_count": null,
      "outputs": []
    },
    {
      "cell_type": "code",
      "source": [
        "#Fit the new model\n",
        "results3=model3.fit()"
      ],
      "metadata": {
        "id": "6qpcTOKzmyrb"
      },
      "execution_count": null,
      "outputs": []
    },
    {
      "cell_type": "code",
      "source": [
        "#Summary of the results of the new model\n",
        "results3.summary()"
      ],
      "metadata": {
        "colab": {
          "base_uri": "https://localhost:8080/",
          "height": 470
        },
        "id": "DN6TR5QXm2rv",
        "outputId": "e0fcbed9-30ed-4ad1-e55a-da82d37fd8ae"
      },
      "execution_count": null,
      "outputs": [
        {
          "output_type": "execute_result",
          "data": {
            "text/plain": [
              "<class 'statsmodels.iolib.summary.Summary'>\n",
              "\"\"\"\n",
              "                            OLS Regression Results                            \n",
              "==============================================================================\n",
              "Dep. Variable:               Dance_BC   R-squared:                       0.137\n",
              "Model:                            OLS   Adj. R-squared:                  0.128\n",
              "Method:                 Least Squares   F-statistic:                     15.58\n",
              "Date:                Fri, 22 Apr 2022   Prob (F-statistic):           5.21e-07\n",
              "Time:                        14:15:15   Log-Likelihood:                 215.36\n",
              "No. Observations:                 200   AIC:                            -424.7\n",
              "Df Residuals:                     197   BIC:                            -414.8\n",
              "Df Model:                           2                                         \n",
              "Covariance Type:            nonrobust                                         \n",
              "==============================================================================\n",
              "                 coef    std err          t      P>|t|      [0.025      0.975]\n",
              "------------------------------------------------------------------------------\n",
              "const         -0.1375      0.030     -4.638      0.000      -0.196      -0.079\n",
              "Speech_BC      0.0167      0.003      5.536      0.000       0.011       0.023\n",
              "Tempo         -0.0003      0.000     -1.444      0.150      -0.001       0.000\n",
              "==============================================================================\n",
              "Omnibus:                        2.972   Durbin-Watson:                   2.009\n",
              "Prob(Omnibus):                  0.226   Jarque-Bera (JB):                3.030\n",
              "Skew:                          -0.287   Prob(JB):                        0.220\n",
              "Kurtosis:                       2.815   Cond. No.                         653.\n",
              "==============================================================================\n",
              "\n",
              "Warnings:\n",
              "[1] Standard Errors assume that the covariance matrix of the errors is correctly specified.\n",
              "\"\"\""
            ],
            "text/html": [
              "<table class=\"simpletable\">\n",
              "<caption>OLS Regression Results</caption>\n",
              "<tr>\n",
              "  <th>Dep. Variable:</th>        <td>Dance_BC</td>     <th>  R-squared:         </th> <td>   0.137</td>\n",
              "</tr>\n",
              "<tr>\n",
              "  <th>Model:</th>                   <td>OLS</td>       <th>  Adj. R-squared:    </th> <td>   0.128</td>\n",
              "</tr>\n",
              "<tr>\n",
              "  <th>Method:</th>             <td>Least Squares</td>  <th>  F-statistic:       </th> <td>   15.58</td>\n",
              "</tr>\n",
              "<tr>\n",
              "  <th>Date:</th>             <td>Fri, 22 Apr 2022</td> <th>  Prob (F-statistic):</th> <td>5.21e-07</td>\n",
              "</tr>\n",
              "<tr>\n",
              "  <th>Time:</th>                 <td>14:15:15</td>     <th>  Log-Likelihood:    </th> <td>  215.36</td>\n",
              "</tr>\n",
              "<tr>\n",
              "  <th>No. Observations:</th>      <td>   200</td>      <th>  AIC:               </th> <td>  -424.7</td>\n",
              "</tr>\n",
              "<tr>\n",
              "  <th>Df Residuals:</th>          <td>   197</td>      <th>  BIC:               </th> <td>  -414.8</td>\n",
              "</tr>\n",
              "<tr>\n",
              "  <th>Df Model:</th>              <td>     2</td>      <th>                     </th>     <td> </td>   \n",
              "</tr>\n",
              "<tr>\n",
              "  <th>Covariance Type:</th>      <td>nonrobust</td>    <th>                     </th>     <td> </td>   \n",
              "</tr>\n",
              "</table>\n",
              "<table class=\"simpletable\">\n",
              "<tr>\n",
              "      <td></td>         <th>coef</th>     <th>std err</th>      <th>t</th>      <th>P>|t|</th>  <th>[0.025</th>    <th>0.975]</th>  \n",
              "</tr>\n",
              "<tr>\n",
              "  <th>const</th>     <td>   -0.1375</td> <td>    0.030</td> <td>   -4.638</td> <td> 0.000</td> <td>   -0.196</td> <td>   -0.079</td>\n",
              "</tr>\n",
              "<tr>\n",
              "  <th>Speech_BC</th> <td>    0.0167</td> <td>    0.003</td> <td>    5.536</td> <td> 0.000</td> <td>    0.011</td> <td>    0.023</td>\n",
              "</tr>\n",
              "<tr>\n",
              "  <th>Tempo</th>     <td>   -0.0003</td> <td>    0.000</td> <td>   -1.444</td> <td> 0.150</td> <td>   -0.001</td> <td>    0.000</td>\n",
              "</tr>\n",
              "</table>\n",
              "<table class=\"simpletable\">\n",
              "<tr>\n",
              "  <th>Omnibus:</th>       <td> 2.972</td> <th>  Durbin-Watson:     </th> <td>   2.009</td>\n",
              "</tr>\n",
              "<tr>\n",
              "  <th>Prob(Omnibus):</th> <td> 0.226</td> <th>  Jarque-Bera (JB):  </th> <td>   3.030</td>\n",
              "</tr>\n",
              "<tr>\n",
              "  <th>Skew:</th>          <td>-0.287</td> <th>  Prob(JB):          </th> <td>   0.220</td>\n",
              "</tr>\n",
              "<tr>\n",
              "  <th>Kurtosis:</th>      <td> 2.815</td> <th>  Cond. No.          </th> <td>    653.</td>\n",
              "</tr>\n",
              "</table><br/><br/>Warnings:<br/>[1] Standard Errors assume that the covariance matrix of the errors is correctly specified."
            ]
          },
          "metadata": {},
          "execution_count": 33
        }
      ]
    },
    {
      "cell_type": "code",
      "source": [
        "#Create a residual qq plot using the statsmodels.api package, qqplot method\n",
        "smapi.qqplot(results3.resid_pearson)"
      ],
      "metadata": {
        "colab": {
          "base_uri": "https://localhost:8080/",
          "height": 541
        },
        "id": "BgKVrLhRoOSy",
        "outputId": "b20c74a0-44f5-4ed2-9c1f-fb4a2195237e"
      },
      "execution_count": null,
      "outputs": [
        {
          "output_type": "execute_result",
          "data": {
            "text/plain": [
              "<Figure size 432x288 with 1 Axes>"
            ],
            "image/png": "[encoded data removed]"
          },
          "metadata": {},
          "execution_count": 35
        },
        {
          "output_type": "display_data",
          "data": {
            "text/plain": [
              "<Figure size 432x288 with 1 Axes>"
            ],
            "image/png": "[encoded data removed]"
          },
          "metadata": {
            "needs_background": "light"
          }
        }
      ]
    },
    {
      "cell_type": "code",
      "source": [
        "#Check the normality of the new model.\n",
        "stats.diagnostic.normal_ad(results3.resid_pearson)"
      ],
      "metadata": {
        "colab": {
          "base_uri": "https://localhost:8080/"
        },
        "id": "OScd5CuboSfx",
        "outputId": "5f2e4b10-fa90-4c74-d0f1-2f3a139724f4"
      },
      "execution_count": null,
      "outputs": [
        {
          "output_type": "execute_result",
          "data": {
            "text/plain": [
              "(0.657521260703021, 0.08490061106591824)"
            ]
          },
          "metadata": {},
          "execution_count": 36
        }
      ]
    },
    {
      "cell_type": "code",
      "source": [
        "#Check equal variance assumption is still supported\n",
        "stats.diagnostic.het_breuschpagan(results3.resid_pearson, results3.model.exog)"
      ],
      "metadata": {
        "colab": {
          "base_uri": "https://localhost:8080/"
        },
        "id": "z_xe4vspoYbC",
        "outputId": "c3e6c875-31f4-4c7f-e29c-1241d2e7f7f4"
      },
      "execution_count": null,
      "outputs": [
        {
          "output_type": "execute_result",
          "data": {
            "text/plain": [
              "(2.7762978323945697,\n",
              " 0.24953679088682026,\n",
              " 1.3865743999596374,\n",
              " 0.25235821862581287)"
            ]
          },
          "metadata": {},
          "execution_count": 37
        }
      ]
    },
    {
      "cell_type": "code",
      "source": [
        "#Define new x variable without tempo\n",
        "x3=spotifyproj[['Speech_BC']]"
      ],
      "metadata": {
        "id": "TvNN7ZEEoe8x"
      },
      "execution_count": null,
      "outputs": []
    },
    {
      "cell_type": "code",
      "source": [
        "#Add constant to the new variable\n",
        "x3 = smapi.add_constant(x3)"
      ],
      "metadata": {
        "colab": {
          "base_uri": "https://localhost:8080/"
        },
        "id": "xSZcIP_movn5",
        "outputId": "82f844ac-95fb-4211-c40d-77440c32bd68"
      },
      "execution_count": null,
      "outputs": [
        {
          "output_type": "stream",
          "name": "stderr",
          "text": [
            "/usr/local/lib/python3.7/dist-packages/statsmodels/tsa/tsatools.py:117: FutureWarning: In a future version of pandas all arguments of concat except for the argument 'objs' will be keyword-only\n",
            "  x = pd.concat(x[::order], 1)\n"
          ]
        }
      ]
    },
    {
      "cell_type": "code",
      "source": [
        "#Define new model with transformed variables and tempo removed\n",
        "model4=smapi.OLS(y2,x3)"
      ],
      "metadata": {
        "id": "loMeCgYPoxcK"
      },
      "execution_count": null,
      "outputs": []
    },
    {
      "cell_type": "code",
      "source": [
        "#Fit the new model\n",
        "results4=model4.fit()"
      ],
      "metadata": {
        "id": "WbIzUjSMo0qL"
      },
      "execution_count": null,
      "outputs": []
    },
    {
      "cell_type": "code",
      "source": [
        "#Summary of the results\n",
        "results4.summary()"
      ],
      "metadata": {
        "colab": {
          "base_uri": "https://localhost:8080/",
          "height": 449
        },
        "id": "uXlpO8mko4Ap",
        "outputId": "565d6488-d827-46ee-a403-9b926bb6edde"
      },
      "execution_count": null,
      "outputs": [
        {
          "output_type": "execute_result",
          "data": {
            "text/plain": [
              "<class 'statsmodels.iolib.summary.Summary'>\n",
              "\"\"\"\n",
              "                            OLS Regression Results                            \n",
              "==============================================================================\n",
              "Dep. Variable:               Dance_BC   R-squared:                       0.127\n",
              "Model:                            OLS   Adj. R-squared:                  0.123\n",
              "Method:                 Least Squares   F-statistic:                     28.92\n",
              "Date:                Fri, 22 Apr 2022   Prob (F-statistic):           2.11e-07\n",
              "Time:                        14:18:40   Log-Likelihood:                 214.30\n",
              "No. Observations:                 200   AIC:                            -424.6\n",
              "Df Residuals:                     198   BIC:                            -418.0\n",
              "Df Model:                           1                                         \n",
              "Covariance Type:            nonrobust                                         \n",
              "==============================================================================\n",
              "                 coef    std err          t      P>|t|      [0.025      0.975]\n",
              "------------------------------------------------------------------------------\n",
              "const         -0.1753      0.014    -12.517      0.000      -0.203      -0.148\n",
              "Speech_BC      0.0161      0.003      5.378      0.000       0.010       0.022\n",
              "==============================================================================\n",
              "Omnibus:                        2.914   Durbin-Watson:                   2.004\n",
              "Prob(Omnibus):                  0.233   Jarque-Bera (JB):                2.973\n",
              "Skew:                          -0.284   Prob(JB):                        0.226\n",
              "Kurtosis:                       2.814   Cond. No.                         11.5\n",
              "==============================================================================\n",
              "\n",
              "Warnings:\n",
              "[1] Standard Errors assume that the covariance matrix of the errors is correctly specified.\n",
              "\"\"\""
            ],
            "text/html": [
              "<table class=\"simpletable\">\n",
              "<caption>OLS Regression Results</caption>\n",
              "<tr>\n",
              "  <th>Dep. Variable:</th>        <td>Dance_BC</td>     <th>  R-squared:         </th> <td>   0.127</td>\n",
              "</tr>\n",
              "<tr>\n",
              "  <th>Model:</th>                   <td>OLS</td>       <th>  Adj. R-squared:    </th> <td>   0.123</td>\n",
              "</tr>\n",
              "<tr>\n",
              "  <th>Method:</th>             <td>Least Squares</td>  <th>  F-statistic:       </th> <td>   28.92</td>\n",
              "</tr>\n",
              "<tr>\n",
              "  <th>Date:</th>             <td>Fri, 22 Apr 2022</td> <th>  Prob (F-statistic):</th> <td>2.11e-07</td>\n",
              "</tr>\n",
              "<tr>\n",
              "  <th>Time:</th>                 <td>14:18:40</td>     <th>  Log-Likelihood:    </th> <td>  214.30</td>\n",
              "</tr>\n",
              "<tr>\n",
              "  <th>No. Observations:</th>      <td>   200</td>      <th>  AIC:               </th> <td>  -424.6</td>\n",
              "</tr>\n",
              "<tr>\n",
              "  <th>Df Residuals:</th>          <td>   198</td>      <th>  BIC:               </th> <td>  -418.0</td>\n",
              "</tr>\n",
              "<tr>\n",
              "  <th>Df Model:</th>              <td>     1</td>      <th>                     </th>     <td> </td>   \n",
              "</tr>\n",
              "<tr>\n",
              "  <th>Covariance Type:</th>      <td>nonrobust</td>    <th>                     </th>     <td> </td>   \n",
              "</tr>\n",
              "</table>\n",
              "<table class=\"simpletable\">\n",
              "<tr>\n",
              "      <td></td>         <th>coef</th>     <th>std err</th>      <th>t</th>      <th>P>|t|</th>  <th>[0.025</th>    <th>0.975]</th>  \n",
              "</tr>\n",
              "<tr>\n",
              "  <th>const</th>     <td>   -0.1753</td> <td>    0.014</td> <td>  -12.517</td> <td> 0.000</td> <td>   -0.203</td> <td>   -0.148</td>\n",
              "</tr>\n",
              "<tr>\n",
              "  <th>Speech_BC</th> <td>    0.0161</td> <td>    0.003</td> <td>    5.378</td> <td> 0.000</td> <td>    0.010</td> <td>    0.022</td>\n",
              "</tr>\n",
              "</table>\n",
              "<table class=\"simpletable\">\n",
              "<tr>\n",
              "  <th>Omnibus:</th>       <td> 2.914</td> <th>  Durbin-Watson:     </th> <td>   2.004</td>\n",
              "</tr>\n",
              "<tr>\n",
              "  <th>Prob(Omnibus):</th> <td> 0.233</td> <th>  Jarque-Bera (JB):  </th> <td>   2.973</td>\n",
              "</tr>\n",
              "<tr>\n",
              "  <th>Skew:</th>          <td>-0.284</td> <th>  Prob(JB):          </th> <td>   0.226</td>\n",
              "</tr>\n",
              "<tr>\n",
              "  <th>Kurtosis:</th>      <td> 2.814</td> <th>  Cond. No.          </th> <td>    11.5</td>\n",
              "</tr>\n",
              "</table><br/><br/>Warnings:<br/>[1] Standard Errors assume that the covariance matrix of the errors is correctly specified."
            ]
          },
          "metadata": {},
          "execution_count": 42
        }
      ]
    },
    {
      "cell_type": "code",
      "source": [
        "#Check assumptions of the new model\n",
        "#Normality test \n",
        "stats.diagnostic.normal_ad(results4.resid_pearson)"
      ],
      "metadata": {
        "colab": {
          "base_uri": "https://localhost:8080/"
        },
        "id": "XfJbvj5Eo93b",
        "outputId": "df483969-6485-44a4-95b2-5abac70c19ed"
      },
      "execution_count": null,
      "outputs": [
        {
          "output_type": "execute_result",
          "data": {
            "text/plain": [
              "(0.5948730883295923, 0.1188941916668465)"
            ]
          },
          "metadata": {},
          "execution_count": 43
        }
      ]
    },
    {
      "cell_type": "code",
      "source": [
        "smapi.qqplot(results4.resid_pearson)"
      ],
      "metadata": {
        "colab": {
          "base_uri": "https://localhost:8080/",
          "height": 541
        },
        "id": "sTTMhh6vpESm",
        "outputId": "8ec21c49-92ff-4f64-a3f7-3ea1ab361e04"
      },
      "execution_count": null,
      "outputs": [
        {
          "output_type": "execute_result",
          "data": {
            "text/plain": [
              "<Figure size 432x288 with 1 Axes>"
            ],
            "image/png": "[encoded data removed]"
          },
          "metadata": {},
          "execution_count": 44
        },
        {
          "output_type": "display_data",
          "data": {
            "text/plain": [
              "<Figure size 432x288 with 1 Axes>"
            ],
            "image/png": "[encoded data removed]"
          },
          "metadata": {
            "needs_background": "light"
          }
        }
      ]
    },
    {
      "cell_type": "code",
      "source": [
        "#Test for equal variance\n",
        "stats.diagnostic.het_breuschpagan(results4.resid_pearson, results4.model.exog)"
      ],
      "metadata": {
        "colab": {
          "base_uri": "https://localhost:8080/"
        },
        "id": "gcpJd6lhpAKi",
        "outputId": "64b7d109-2811-4ace-9cf7-bc8f8996f022"
      },
      "execution_count": null,
      "outputs": [
        {
          "output_type": "execute_result",
          "data": {
            "text/plain": [
              "(3.415507043304178,\n",
              " 0.06458656952470075,\n",
              " 3.4401004087499403,\n",
              " 0.06511867265792322)"
            ]
          },
          "metadata": {},
          "execution_count": 45
        }
      ]
    },
    {
      "cell_type": "code",
      "source": [
        "plt.scatter(results4.fittedvalues, results4.resid_pearson)"
      ],
      "metadata": {
        "colab": {
          "base_uri": "https://localhost:8080/",
          "height": 282
        },
        "id": "VqrDr2rKpJK8",
        "outputId": "cb8fdca6-1b11-4c60-cf21-44ca15b70f9c"
      },
      "execution_count": null,
      "outputs": [
        {
          "output_type": "execute_result",
          "data": {
            "text/plain": [
              "<matplotlib.collections.PathCollection at 0x7f02de6eb290>"
            ]
          },
          "metadata": {},
          "execution_count": 46
        },
        {
          "output_type": "display_data",
          "data": {
            "text/plain": [
              "<Figure size 432x288 with 1 Axes>"
            ],
            "image/png": "[encoded data removed]"
          },
          "metadata": {
            "needs_background": "light"
          }
        }
      ]
    }
  ]
}